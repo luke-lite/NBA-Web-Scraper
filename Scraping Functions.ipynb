{
 "cells": [
  {
   "cell_type": "code",
   "execution_count": null,
   "metadata": {},
   "outputs": [],
   "source": []
  },
  {
   "cell_type": "code",
   "execution_count": null,
   "metadata": {},
   "outputs": [],
   "source": []
  },
  {
   "cell_type": "code",
   "execution_count": null,
   "metadata": {},
   "outputs": [],
   "source": [
    "def create_game_info(url, season, season_gamecount):\n",
    "    \n",
    "    \n",
    "    season_gamecount += 1\n",
    "    game_count = str(season_gamecount)\n",
    "    \n",
    "    while len(game_count) < 4:\n",
    "        game_count = '0' + game_count\n",
    "    \n",
    "    id_string = url.strip(string.ascii_letters+string.punctuation)\n",
    "    year = id_string[0:4]\n",
    "    month = id_string[4:6]\n",
    "    day = id_string[6:8]\n",
    "    \n",
    "    date = year+'-'+month+'-'+day\n",
    "    \n",
    "    game_id = int(season+month+day+game_count)\n",
    "    season = int(season)\n",
    "    \n",
    "    return [game_id, season, date]"
   ]
  },
  {
   "cell_type": "code",
   "execution_count": null,
   "metadata": {},
   "outputs": [],
   "source": [
    "def create_team_info(table):\n",
    "    '''\n",
    "    Create a dataframe with game results. Uses an html table as input.\n",
    "    \n",
    "    ---\n",
    "    Inputs:\n",
    "    \n",
    "    table: a BeautifulSoup html table\n",
    "    ---\n",
    "    Outputs:\n",
    "    \n",
    "    team_info: a dataframe with the relevant game information (team_ids, scores, and boolean 'results' column)\n",
    "    '''\n",
    "    \n",
    "    # get team_ids\n",
    "    id_rows = table.findAll('th', attrs={'class':'center', 'data-stat':'team', 'scope':'row'})\n",
    "    team_ids = [row.text.strip() for row in id_rows]\n",
    "    \n",
    "    # get final score\n",
    "    scores = table.findAll('td', attrs={'class': 'center', 'data-stat': 'T'})\n",
    "    final_scores = [int(score.text.strip()) for score in scores]\n",
    "    \n",
    "    # boolean game-winner: away=0, home=1\n",
    "    if final_scores[0] > final_scores[1]:\n",
    "        result=0\n",
    "    else:\n",
    "        result=1\n",
    "    \n",
    "    team_info = [team_ids[0], final_scores[0], team_ids[1], final_scores[1], result]\n",
    "    \n",
    "    return team_info"
   ]
  },
  {
   "cell_type": "code",
   "execution_count": null,
   "metadata": {},
   "outputs": [],
   "source": [
    "def create_info_df(game_info, team_info):\n",
    "    info = game_info + team_info\n",
    "    info_df = pd.DataFrame([info], columns=info_columns)\n",
    "    return info_df"
   ]
  },
  {
   "cell_type": "code",
   "execution_count": null,
   "metadata": {},
   "outputs": [],
   "source": [
    "def create_boxscores(table, game_id):\n",
    "\n",
    "    # ignore first 'tr', it is table title, not column\n",
    "    rows = table.findAll('tr')[1:]\n",
    "    # first 'th' is 'Starters', but will be changed into the player names\n",
    "    headers = rows[0].findAll('th')\n",
    "    # provide column names\n",
    "    headerlist = [h.text.strip() for h in headers]\n",
    "    \n",
    "    # ignore first row (headers)\n",
    "    data = rows[1:]\n",
    "    # get names column\n",
    "    player_names = [row.find('th').text.strip() for row in rows]\n",
    "    # get player stats\n",
    "    player_stats = [[stat.text.strip() for stat in row.findAll('td')] for row in data]\n",
    "    # add player name as first entry in each row\n",
    "    for i in range(len(player_stats)):\n",
    "        # ignore header with i+1\n",
    "        player_stats[i].insert(0, player_names[i+1])\n",
    "    \n",
    "    # create player stats dataframe\n",
    "    player_box_df = pd.DataFrame(player_stats, columns=headerlist)\n",
    "    # drop 'Reserves' row\n",
    "    player_box_df.drop(player_box_df[player_box_df['Starters'] == 'Reserves'].index, inplace=True)\n",
    "    \n",
    "    # add game id column\n",
    "    player_box_df.insert(loc=0, column='game_id', value=game_id)\n",
    "    \n",
    "    # create team stats dataframe from last row in player stats\n",
    "    team_box_df = pd.DataFrame(player_box_df.iloc[-1]).T\n",
    "    \n",
    "    #drop team totals from player stats df\n",
    "    player_box_df = player_box_df[:-1].rename(columns={'Starters': 'player'})\n",
    "\n",
    "    return player_box_df, team_box_df"
   ]
  },
  {
   "cell_type": "code",
   "execution_count": null,
   "metadata": {},
   "outputs": [],
   "source": [
    "def merge_boxscores(boxscore_list, team_ids, scope):\n",
    "\n",
    "    # create tuple for every 2 boxscores in list\n",
    "    pairs = [((boxscore_list[i]), (boxscore_list[i + 1])) for i in range(0, len(boxscore_list), 2)]\n",
    "    \n",
    "    clean_boxscores= []\n",
    "    \n",
    "    for pair in pairs:\n",
    "        \n",
    "        # combine regular and adv boxscores\n",
    "        df = pd.concat([*pair], axis=1)\n",
    "        # drop columns with duplicate names\n",
    "        df = df.loc[:,~df.columns.duplicated()].copy()\n",
    "        \n",
    "        clean_boxscores.append(df)\n",
    "    \n",
    "    for i in range(len(clean_boxscores)):\n",
    "        \n",
    "        if scope=='team':\n",
    "            clean_boxscores[i].rename(columns={'Starters': 'team'}, inplace=True)\n",
    "            clean_boxscores[i]['team'] = team_ids[i]\n",
    "            \n",
    "        elif scope=='player':\n",
    "            clean_boxscores[i].insert(loc=2, column='team', value=team_ids[i])\n",
    "\n",
    "    \n",
    "    return clean_boxscores"
   ]
  },
  {
   "cell_type": "code",
   "execution_count": null,
   "metadata": {},
   "outputs": [],
   "source": [
    "def change_dtypes(df, num_columns):\n",
    "\n",
    "    df.replace(to_replace='', value='-99', inplace=True)\n",
    "    \n",
    "    for column in num_columns:\n",
    "        df[column] = df[column].astype('float64')\n",
    "        \n",
    "    df.replace(to_replace=-99, value=np.nan, inplace=True)\n",
    "    \n",
    "    return df"
   ]
  },
  {
   "cell_type": "code",
   "execution_count": null,
   "metadata": {},
   "outputs": [],
   "source": [
    "def PIE(player_boxes, totals):\n",
    "    \n",
    "    PIE_denom = (totals['PTS'] + totals['FG'] + totals['FT'] - totals['FGA'] - totals['FTA'] + totals['DRB'] + (0.5*totals['ORB']) + totals['AST'] + totals['STL'] + (0.5*totals['BLK']) - totals['PF'] - totals['TOV'])\n",
    "    player_boxes['PIE'] = round((100 * (player_boxes['PTS'] + player_boxes['FG'] + player_boxes['FT'] - player_boxes['FGA'] - player_boxes['FTA'] + player_boxes['DRB'] + (0.5*player_boxes['ORB']) + player_boxes['AST'] + player_boxes['STL'] + (0.5*player_boxes['BLK']) - player_boxes['PF'] - player_boxes['TOV']) / PIE_denom), 1)\n",
    "    \n",
    "    return player_boxes"
   ]
  },
  {
   "cell_type": "code",
   "execution_count": null,
   "metadata": {},
   "outputs": [],
   "source": []
  }
 ],
 "metadata": {
  "kernelspec": {
   "display_name": "scraper-env",
   "language": "python",
   "name": "scraper-env"
  },
  "language_info": {
   "codemirror_mode": {
    "name": "ipython",
    "version": 3
   },
   "file_extension": ".py",
   "mimetype": "text/x-python",
   "name": "python",
   "nbconvert_exporter": "python",
   "pygments_lexer": "ipython3",
   "version": "3.11.2"
  }
 },
 "nbformat": 4,
 "nbformat_minor": 4
}
