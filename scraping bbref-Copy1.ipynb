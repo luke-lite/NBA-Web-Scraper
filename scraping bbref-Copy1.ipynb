{
 "cells": [
  {
   "cell_type": "code",
   "execution_count": 1,
   "metadata": {},
   "outputs": [],
   "source": [
    "def create_game_info(url, season_id, season_gamecount):\n",
    "    \n",
    "    game_count = str(season_gamecount)\n",
    "    while len(game_count) < 4:\n",
    "        game_count = '0' + game_count\n",
    "    \n",
    "    id_string = url.strip(string.ascii_letters+string.punctuation)\n",
    "    year = id_string[0:4]\n",
    "    month = id_string[4:6]\n",
    "    day = id_string[6:8]\n",
    "    \n",
    "    date = year+'-'+month+'-'+day\n",
    "    \n",
    "    game_id = int(season_id+month+day+game_count)\n",
    "    season_id = int(season_id)\n",
    "    \n",
    "    return [game_id, season_id, date]"
   ]
  },
  {
   "cell_type": "code",
   "execution_count": 2,
   "metadata": {},
   "outputs": [],
   "source": [
    "def create_team_info(table):\n",
    "    '''\n",
    "    Create a dataframe with game results. Uses an html table as input.\n",
    "    \n",
    "    ---\n",
    "    Inputs:\n",
    "    \n",
    "    table: a BeautifulSoup html table\n",
    "    ---\n",
    "    Outputs:\n",
    "    \n",
    "    team_info: a dataframe with the relevant game information (team_ids, scores, and boolean 'results' column)\n",
    "    '''\n",
    "    \n",
    "    # get team_ids\n",
    "    id_rows = table.findAll('th', attrs={'class':'center', 'data-stat':'team', 'scope':'row'})\n",
    "    team_ids = [row.text.strip() for row in id_rows]\n",
    "    \n",
    "    # get final score\n",
    "    scores = table.findAll('td', attrs={'class': 'center', 'data-stat': 'T'})\n",
    "    final_scores = [int(score.text.strip()) for score in scores]\n",
    "    \n",
    "    # boolean game-winner: away=0, home=1\n",
    "    if final_scores[0] > final_scores[1]:\n",
    "        result=0\n",
    "    else:\n",
    "        result=1\n",
    "    \n",
    "    team_info = [team_ids[0], final_scores[0], team_ids[1], final_scores[1], result]\n",
    "    \n",
    "    return team_info"
   ]
  },
  {
   "cell_type": "code",
   "execution_count": 3,
   "metadata": {},
   "outputs": [],
   "source": [
    "def create_info_df(game_info, team_info, info_columns):\n",
    "    info = game_info + team_info\n",
    "    info_df = pd.DataFrame([info], columns=info_columns)\n",
    "    return info_df"
   ]
  },
  {
   "cell_type": "code",
   "execution_count": 4,
   "metadata": {},
   "outputs": [],
   "source": [
    "def create_boxscores(table, game_id):\n",
    "\n",
    "    # ignore first 'tr', it is table title, not column\n",
    "    rows = table.findAll('tr')[1:]\n",
    "    # first 'th' is 'Starters', but will be changed into the player names\n",
    "    headers = rows[0].findAll('th')\n",
    "    # provide column names\n",
    "    headerlist = [h.text.strip() for h in headers]\n",
    "    \n",
    "    # ignore first row (headers)\n",
    "    data = rows[1:]\n",
    "    # get names column\n",
    "    player_names = [row.find('th').text.strip() for row in rows]\n",
    "    # get player stats\n",
    "    player_stats = [[stat.text.strip() for stat in row.findAll('td')] for row in data]\n",
    "    # add player name as first entry in each row\n",
    "    for i in range(len(player_stats)):\n",
    "        # ignore header with i+1\n",
    "        player_stats[i].insert(0, player_names[i+1])\n",
    "    \n",
    "    # create player stats dataframe\n",
    "    player_box_df = pd.DataFrame(player_stats, columns=headerlist)\n",
    "    # drop 'Reserves' row\n",
    "    player_box_df.drop(player_box_df[player_box_df['Starters'] == 'Reserves'].index, inplace=True)\n",
    "    \n",
    "    # add game id column\n",
    "    player_box_df.insert(loc=0, column='game_id', value=game_id)\n",
    "    \n",
    "    # create team stats dataframe from last row in player stats\n",
    "    team_box_df = pd.DataFrame(player_box_df.iloc[-1]).T\n",
    "    \n",
    "    #drop team totals from player stats df\n",
    "    player_box_df = player_box_df[:-1].rename(columns={'Starters': 'player'})\n",
    "\n",
    "    return player_box_df, team_box_df"
   ]
  },
  {
   "cell_type": "code",
   "execution_count": 5,
   "metadata": {},
   "outputs": [],
   "source": [
    "def merge_boxscores(boxscore_list, team_ids, scope):\n",
    "\n",
    "    # create tuple for every 2 boxscores in list\n",
    "    pairs = [((boxscore_list[i]), (boxscore_list[i + 1])) for i in range(0, len(boxscore_list), 2)]\n",
    "    \n",
    "    clean_boxscores= []\n",
    "    \n",
    "    for pair in pairs:\n",
    "        \n",
    "        # combine regular and adv boxscores\n",
    "        df = pd.concat([*pair], axis=1)\n",
    "        # drop columns with duplicate names\n",
    "        df = df.loc[:,~df.columns.duplicated()].copy()\n",
    "        \n",
    "        clean_boxscores.append(df)\n",
    "    \n",
    "    for i in range(len(clean_boxscores)):\n",
    "        \n",
    "        if scope=='team':\n",
    "            clean_boxscores[i].rename(columns={'Starters': 'team'}, inplace=True)\n",
    "            clean_boxscores[i]['team'] = team_ids[i]\n",
    "            \n",
    "        elif scope=='player':\n",
    "            clean_boxscores[i].insert(loc=2, column='team', value=team_ids[i])\n",
    "    \n",
    "    return clean_boxscores"
   ]
  },
  {
   "cell_type": "code",
   "execution_count": 6,
   "metadata": {},
   "outputs": [],
   "source": [
    "def change_dtypes(df, num_columns):\n",
    "\n",
    "    df.replace(to_replace='', value='-99', inplace=True)\n",
    "    \n",
    "    for column in num_columns:\n",
    "        df[column] = df[column].astype('float64')\n",
    "        \n",
    "    df.replace(to_replace=-99, value=np.nan, inplace=True)\n",
    "    \n",
    "    return df"
   ]
  },
  {
   "cell_type": "code",
   "execution_count": 7,
   "metadata": {},
   "outputs": [],
   "source": [
    "def create_PIE(player_boxes, totals):\n",
    "    \n",
    "    PIE_denom = (totals['PTS'] + totals['FG'] + totals['FT'] - totals['FGA'] - totals['FTA'] + totals['DRB'] + (0.5*totals['ORB']) + totals['AST'] + totals['STL'] + (0.5*totals['BLK']) - totals['PF'] - totals['TOV'])\n",
    "    player_boxes['PIE'] = round((100 * (player_boxes['PTS'] + player_boxes['FG'] + player_boxes['FT'] - player_boxes['FGA'] - player_boxes['FTA'] + player_boxes['DRB'] + (0.5*player_boxes['ORB']) + player_boxes['AST'] + player_boxes['STL'] + (0.5*player_boxes['BLK']) - player_boxes['PF'] - player_boxes['TOV']) / PIE_denom), 1)\n",
    "    \n",
    "    return player_boxes"
   ]
  },
  {
   "cell_type": "code",
   "execution_count": 8,
   "metadata": {},
   "outputs": [],
   "source": [
    "from selenium import webdriver\n",
    "from selenium.webdriver.support.ui import Select\n",
    "from selenium.webdriver.common.by import By\n",
    "from bs4 import BeautifulSoup\n",
    "import pandas as pd\n",
    "import numpy as np\n",
    "import string\n",
    "import time\n",
    "import timeit\n",
    "import sqlite3\n",
    "\n",
    "pd.set_option('display.max_columns', None)"
   ]
  },
  {
   "cell_type": "code",
   "execution_count": 9,
   "metadata": {},
   "outputs": [],
   "source": [
    "# global variables\n",
    "\n",
    "\n",
    "base_url = 'https://www.basketball-reference.com'\n",
    "url = r'https://www.basketball-reference.com/leagues/NBA_2018_games.html'\n",
    "\n",
    "season_id = '1718'\n",
    "season_gamecount = 1\n",
    "\n",
    "precovid_seasons = ['1314', '1415', '1516', '1617', '1718', '1819']\n",
    "postcovid_seasons = ['1920', '2021', '2122', '2223']\n",
    "\n",
    "last_game_url = {'1920': base_url+'/boxscores/202008140HOU.html',\n",
    "                 '2021': base_url+'/boxscores/202105160SAC.html',\n",
    "                 '2122': base_url+'/boxscores/202204100POR.html',\n",
    "                 '2223': base_url+'/boxscores/202304090POR.html'}\n",
    "last_game_row = {'1920': 83,\n",
    "                 '2021': 140,\n",
    "                 '2122': 83,\n",
    "                 '2223': 72}\n",
    "\n",
    "info_columns = ['game_id', 'season', 'date', 'away_team', 'away_score', 'home_team', 'home_score', 'result']\n",
    "num_columns = ['FG', 'FGA', '3P', '3PA', 'FT', 'FTA', 'ORB', 'DRB', 'TRB', 'AST', 'STL', 'BLK', 'TOV', 'PF', 'PTS', '+/-',\n",
    "               'FG%', '3P%', 'FT%', 'TS%', 'eFG%', '3PAr', 'FTr', 'ORB%', 'DRB%', 'TRB%', 'AST%', 'STL%', 'BLK%', 'TOV%', 'USG%', 'ORtg', 'DRtg', 'BPM']"
   ]
  },
  {
   "cell_type": "code",
   "execution_count": 10,
   "metadata": {},
   "outputs": [],
   "source": [
    "driver = webdriver.Chrome()"
   ]
  },
  {
   "cell_type": "code",
   "execution_count": 17,
   "metadata": {},
   "outputs": [],
   "source": [
    "# ping1\n",
    "driver.get(url)"
   ]
  },
  {
   "cell_type": "markdown",
   "metadata": {},
   "source": [
    "## get boxscore urls for october"
   ]
  },
  {
   "cell_type": "code",
   "execution_count": 26,
   "metadata": {},
   "outputs": [],
   "source": [
    "src = driver.page_source\n",
    "parser = BeautifulSoup(src, 'lxml')\n",
    "table = parser.find('div', attrs = {'class': 'table_container is_setup'})\n",
    "headers = table.findAll('td', attrs = {'class': 'center', 'data-stat': 'box_score_text'})\n",
    "oct_17_18_url_list = [base_url + header.a['href'] for header in headers]"
   ]
  },
  {
   "cell_type": "code",
   "execution_count": 32,
   "metadata": {},
   "outputs": [],
   "source": [
    "# splits = table.findAll('tr', attrs = {'class': 'thead'})\n",
    "# for split in splits:\n",
    "#     if 'Playoffs' in split.text:\n",
    "#         row_num = int(split['data-row'])"
   ]
  },
  {
   "cell_type": "markdown",
   "metadata": {},
   "source": [
    "## get individual boxscores and game info:"
   ]
  },
  {
   "cell_type": "code",
   "execution_count": null,
   "metadata": {},
   "outputs": [],
   "source": [
    "conn = sqlite3.connect('test_database')\n",
    "# c = conn.cursor()\n",
    "\n",
    "start_time = time.time()\n",
    "\n",
    "\n",
    "for i in range(2):\n",
    "    \n",
    "    # ping2\n",
    "    driver.get(oct_17_18_url_list[i])\n",
    "\n",
    "    src = driver.page_source\n",
    "    parser = BeautifulSoup(src, 'lxml')\n",
    "\n",
    "    stat_tables = parser.findAll('table', attrs = {'class': 'sortable stats_table now_sortable'})\n",
    "\n",
    "    id_table = parser.find('table', attrs = {'class': 'suppress_all stats_table', 'id': 'line_score'})\n",
    "\n",
    "    game_info = create_game_info(url=oct_17_18_url_list[i],\n",
    "                                 season_id=season_id,\n",
    "                                 season_gamecount=season_gamecount)\n",
    "    game_id = game_info[0]\n",
    "\n",
    "    team_info = create_team_info(id_table)\n",
    "\n",
    "    team_ids = [team_info[0], team_info[2]]\n",
    "\n",
    "    info_df = create_info_df(game_info=game_info,\n",
    "                             team_info=team_info,\n",
    "                             info_columns=info_columns)\n",
    "\n",
    "    player_box_list = [None, None, None, None]\n",
    "    team_box_list = [None, None, None, None]\n",
    "\n",
    "    for i in range(len(stat_tables)):\n",
    "        player_box_list[i], team_box_list[i] = create_boxscores(stat_tables[i], game_id=game_id)\n",
    "\n",
    "    away_team_box, home_team_box = merge_boxscores(team_box_list, team_ids=team_ids, scope='team')\n",
    "\n",
    "    team_boxes = pd.concat([away_team_box, home_team_box])\n",
    "    team_boxes.reset_index(drop=True, inplace=True)\n",
    "\n",
    "    team_boxes = change_dtypes(team_boxes, num_columns)\n",
    "\n",
    "    away_player_box, home_player_box = merge_boxscores(player_box_list, team_ids=team_ids, scope='player')\n",
    "\n",
    "    player_boxes = pd.concat([away_player_box, home_player_box])\n",
    "    player_boxes.reset_index(drop=True, inplace=True)\n",
    "\n",
    "    player_boxes = change_dtypes(player_boxes, num_columns)\n",
    "\n",
    "    totals = dict(team_boxes.loc[:,'FG':'PTS'].sum())\n",
    "\n",
    "    player_boxes = create_PIE(player_boxes, totals)\n",
    "\n",
    "    info_df.to_sql('game_info', con=conn, if_exists='append', index=False)\n",
    "    team_boxes.to_sql('team_stats', con=conn, if_exists='append', index=False)\n",
    "    player_boxes.to_sql('player_stats', con=conn, if_exists='append', index=False)\n",
    "    \n",
    "    season_gamecount += 1\n",
    "    \n",
    "conn.close()\n",
    "\n",
    "end_time = time.time()\n",
    "\n",
    "duration = end_time-start_time"
   ]
  },
  {
   "cell_type": "code",
   "execution_count": null,
   "metadata": {},
   "outputs": [],
   "source": [
    "duration"
   ]
  },
  {
   "cell_type": "code",
   "execution_count": null,
   "metadata": {
    "scrolled": false
   },
   "outputs": [],
   "source": [
    "conn = sqlite3.connect('test_database')"
   ]
  },
  {
   "cell_type": "code",
   "execution_count": null,
   "metadata": {},
   "outputs": [],
   "source": [
    "query = \"SELECT * from game_info\"\n",
    "df = pd.read_sql_query(query, conn)"
   ]
  },
  {
   "cell_type": "code",
   "execution_count": null,
   "metadata": {
    "scrolled": false
   },
   "outputs": [],
   "source": [
    "df"
   ]
  },
  {
   "cell_type": "code",
   "execution_count": null,
   "metadata": {},
   "outputs": [],
   "source": []
  },
  {
   "cell_type": "code",
   "execution_count": null,
   "metadata": {},
   "outputs": [],
   "source": []
  },
  {
   "cell_type": "code",
   "execution_count": null,
   "metadata": {},
   "outputs": [],
   "source": []
  },
  {
   "cell_type": "markdown",
   "metadata": {},
   "source": [
    "## get all month links for a single season"
   ]
  },
  {
   "cell_type": "code",
   "execution_count": 11,
   "metadata": {},
   "outputs": [],
   "source": [
    "driver.get(url)"
   ]
  },
  {
   "cell_type": "code",
   "execution_count": 12,
   "metadata": {},
   "outputs": [],
   "source": [
    "# ping 2\n",
    "src = driver.page_source\n",
    "parser = BeautifulSoup(src, 'lxml')\n",
    "months = parser.find('div', attrs = {'class': 'filter'})\n",
    "links = months.findAll('a')\n",
    "month_links = [base_url + link['href'] for link in links]"
   ]
  },
  {
   "cell_type": "markdown",
   "metadata": {},
   "source": [
    "## how to limit it to only the regular season months?"
   ]
  },
  {
   "cell_type": "code",
   "execution_count": 13,
   "metadata": {},
   "outputs": [],
   "source": [
    "month_links = month_links[0:7]"
   ]
  },
  {
   "cell_type": "code",
   "execution_count": 14,
   "metadata": {},
   "outputs": [],
   "source": [
    "driver.get(month_links[-1])"
   ]
  },
  {
   "cell_type": "markdown",
   "metadata": {},
   "source": [
    "## for pre-covid seasons: get only the reg season games in final month"
   ]
  },
  {
   "cell_type": "code",
   "execution_count": 15,
   "metadata": {},
   "outputs": [],
   "source": [
    "src = driver.page_source\n",
    "parser = BeautifulSoup(src, 'lxml')\n",
    "table = parser.find('div', attrs = {'class': 'table_container is_setup'})\n",
    "header_rows = table.findAll('tr', attrs = {'class': 'thead'})"
   ]
  },
  {
   "cell_type": "code",
   "execution_count": 16,
   "metadata": {},
   "outputs": [
    {
     "data": {
      "text/plain": [
       "[<tr class=\"thead\" data-row=\"88\"><th colspan=\"11\">Playoffs</th></tr>]"
      ]
     },
     "execution_count": 16,
     "metadata": {},
     "output_type": "execute_result"
    }
   ],
   "source": [
    "header_rows"
   ]
  },
  {
   "cell_type": "code",
   "execution_count": null,
   "metadata": {},
   "outputs": [],
   "source": [
    "if header_rows[0].text == 'Playoffs':\n",
    "    row_num = int(header_rows[0]['data-row'])"
   ]
  },
  {
   "cell_type": "code",
   "execution_count": null,
   "metadata": {},
   "outputs": [],
   "source": [
    "int(header_rows[0]['data-row'])"
   ]
  },
  {
   "cell_type": "code",
   "execution_count": null,
   "metadata": {},
   "outputs": [],
   "source": [
    "headers = table.findAll('td', attrs = {'class': 'center', 'data-stat': 'box_score_text'}, limit=88)\n",
    "# apr_17_18_url_list = [base_url + header.a['href'] for header in headers]"
   ]
  },
  {
   "cell_type": "code",
   "execution_count": null,
   "metadata": {},
   "outputs": [],
   "source": [
    "headers"
   ]
  },
  {
   "cell_type": "markdown",
   "metadata": {},
   "source": [
    "## for post covid, i need to use the hard coded values for last reg season game each season"
   ]
  },
  {
   "cell_type": "code",
   "execution_count": null,
   "metadata": {},
   "outputs": [],
   "source": []
  },
  {
   "cell_type": "code",
   "execution_count": null,
   "metadata": {},
   "outputs": [],
   "source": []
  },
  {
   "cell_type": "code",
   "execution_count": null,
   "metadata": {},
   "outputs": [],
   "source": [
    "\n",
    "# links[0]['href']\n",
    "\n",
    "# driver.find_element(By.LINK_TEXT, 'October')\n",
    "\n",
    "# driver.find_element(By.LINK_TEXT, 'October').click();\n",
    "\n",
    "# months = ['October', 'November', 'December', 'January', 'February', 'March', 'April']"
   ]
  },
  {
   "cell_type": "code",
   "execution_count": null,
   "metadata": {},
   "outputs": [],
   "source": []
  },
  {
   "cell_type": "code",
   "execution_count": null,
   "metadata": {},
   "outputs": [],
   "source": [
    "# np.random.randint(5,16)"
   ]
  },
  {
   "cell_type": "code",
   "execution_count": null,
   "metadata": {},
   "outputs": [],
   "source": []
  },
  {
   "cell_type": "code",
   "execution_count": null,
   "metadata": {},
   "outputs": [],
   "source": []
  },
  {
   "cell_type": "code",
   "execution_count": null,
   "metadata": {},
   "outputs": [],
   "source": []
  },
  {
   "cell_type": "code",
   "execution_count": null,
   "metadata": {},
   "outputs": [],
   "source": []
  },
  {
   "cell_type": "code",
   "execution_count": null,
   "metadata": {},
   "outputs": [],
   "source": [
    "# conn = sqlite3.connect('test_database')\n",
    "# c = conn.cursor()\n",
    "\n",
    "# away_player_box.to_sql('player_stats', con=conn, if_exists='append', index=False)\n",
    "\n",
    "# home_player_box.to_sql('player_stats', con=conn, if_exists='append', index=False)"
   ]
  },
  {
   "cell_type": "code",
   "execution_count": null,
   "metadata": {},
   "outputs": [],
   "source": [
    "query = \"SELECT * from player_stats\"\n",
    "\n",
    "# pd.read_sql_query(query, conn, index_col='index')\n",
    "# df.index.names = ['']"
   ]
  },
  {
   "cell_type": "code",
   "execution_count": null,
   "metadata": {},
   "outputs": [],
   "source": [
    "dffd = pd.read_sql_query(query, conn, index_col='index')\n",
    "dffd"
   ]
  },
  {
   "cell_type": "code",
   "execution_count": null,
   "metadata": {},
   "outputs": [],
   "source": []
  },
  {
   "cell_type": "code",
   "execution_count": null,
   "metadata": {},
   "outputs": [],
   "source": []
  },
  {
   "cell_type": "code",
   "execution_count": null,
   "metadata": {},
   "outputs": [],
   "source": [
    "for season in precovid_seasons:\n",
    "    "
   ]
  },
  {
   "cell_type": "code",
   "execution_count": null,
   "metadata": {},
   "outputs": [],
   "source": []
  },
  {
   "cell_type": "code",
   "execution_count": null,
   "metadata": {},
   "outputs": [],
   "source": []
  },
  {
   "cell_type": "code",
   "execution_count": null,
   "metadata": {},
   "outputs": [],
   "source": []
  },
  {
   "cell_type": "code",
   "execution_count": null,
   "metadata": {},
   "outputs": [],
   "source": []
  },
  {
   "cell_type": "code",
   "execution_count": null,
   "metadata": {},
   "outputs": [],
   "source": [
    "conn.close()"
   ]
  },
  {
   "cell_type": "code",
   "execution_count": 31,
   "metadata": {},
   "outputs": [],
   "source": [
    "driver.quit()"
   ]
  },
  {
   "cell_type": "code",
   "execution_count": null,
   "metadata": {},
   "outputs": [],
   "source": [
    "# select = Select(driver.find_element_by_xpath(r'htmlcodehere'))\n",
    "\n",
    "# select.select_by_index(0)         # selects 0th option from the drop down menu of this xpathed element"
   ]
  }
 ],
 "metadata": {
  "kernelspec": {
   "display_name": "scraper-env",
   "language": "python",
   "name": "scraper-env"
  },
  "language_info": {
   "codemirror_mode": {
    "name": "ipython",
    "version": 3
   },
   "file_extension": ".py",
   "mimetype": "text/x-python",
   "name": "python",
   "nbconvert_exporter": "python",
   "pygments_lexer": "ipython3",
   "version": "3.11.2"
  }
 },
 "nbformat": 4,
 "nbformat_minor": 4
}
